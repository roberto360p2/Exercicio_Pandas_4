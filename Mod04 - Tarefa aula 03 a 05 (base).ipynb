{
 "cells": [
  {
   "cell_type": "markdown",
   "metadata": {},
   "source": [
    "## Exercício 1: Vestibular\n",
    "\n",
    "Considere que a os dados gerados na célula abaixo contêm o número de acertos de 100 alunos em um vestibular para um curso de exatas, divididas pelos respectivos assuntos. Considere que cada assunto possui um número de questões conforme a tabela abaixo:\n",
    "\n",
    "| assunto | número de questões |\n",
    "|:---:|:---:|\n",
    "| Matemática | 24 |\n",
    "| Português | 18 |\n",
    "| Geografia | 8 |\n",
    "| Inglês | 8 |\n",
    "| História | 8 |\n",
    "| Física | 12 |\n",
    "| Química | 12 |\n",
    "\n",
    "Usando os comandos de operações com DataFrames que você aprendeu na Aula 03, calcule:\n",
    "\n",
    "1. (operações com escalar) Calcule o percentual de acerto dos alunos por assunto.  \n",
    "2. (operações entre *DataFrames) Calcule o total de acertos de cada aluno.  \n",
    "3. Calcule o porcentual geral de cada aluno.  \n",
    "4. Suponha que a nota de corte para a segunda fase seja 45. Quantos alunos tiveram nota maior que 45?  "
   ]
  },
  {
   "cell_type": "code",
   "execution_count": 1,
   "metadata": {},
   "outputs": [],
   "source": [
    "import pandas as pd\n",
    "import numpy as np\n",
    "\n",
    "np.random.seed(42)\n",
    "df_mat = pd.DataFrame(np.random.randint(24, size=(100, 1)), columns=['Qt_acertos'])\n",
    "\n",
    "df_por = pd.DataFrame(np.random.randint(18, size=(100, 1)), columns=['Qt_acertos'])\n",
    "\n",
    "df_geo = pd.DataFrame(np.random.randint(8, size=(100, 1)), columns=['Qt_acertos'])\n",
    "\n",
    "df_ing = pd.DataFrame(np.random.randint(8, size=(100, 1)), columns=['Qt_acertos'])\n",
    "\n",
    "df_his = pd.DataFrame(np.random.randint(8, size=(100, 1)), columns=['Qt_acertos'])\n",
    "\n",
    "df_fis = pd.DataFrame(np.random.randint(12, size=(100, 1)), columns=['Qt_acertos'])\n",
    "\n",
    "df_qui = pd.DataFrame(np.random.randint(12, size=(100, 1)), columns=['Qt_acertos'])"
   ]
  },
  {
   "cell_type": "code",
   "execution_count": 2,
   "metadata": {},
   "outputs": [
    {
     "data": {
      "text/plain": [
       "Qt_acertos\n",
       "14            8\n",
       "20            8\n",
       "11            7\n",
       "3             6\n",
       "6             6\n",
       "7             6\n",
       "1             5\n",
       "23            5\n",
       "17            5\n",
       "13            4\n",
       "8             4\n",
       "21            4\n",
       "15            3\n",
       "12            3\n",
       "22            3\n",
       "10            3\n",
       "9             3\n",
       "18            3\n",
       "19            3\n",
       "2             3\n",
       "0             3\n",
       "16            2\n",
       "5             2\n",
       "4             1\n",
       "dtype: int64"
      ]
     },
     "execution_count": 2,
     "metadata": {},
     "output_type": "execute_result"
    }
   ],
   "source": [
    "df_mat.value_counts()"
   ]
  },
  {
   "cell_type": "code",
   "execution_count": 3,
   "metadata": {},
   "outputs": [
    {
     "data": {
      "text/plain": [
       "Qt_acertos    1185\n",
       "dtype: int64"
      ]
     },
     "execution_count": 3,
     "metadata": {},
     "output_type": "execute_result"
    }
   ],
   "source": [
    "df_mat.sum()"
   ]
  },
  {
   "cell_type": "code",
   "execution_count": 4,
   "metadata": {},
   "outputs": [
    {
     "name": "stdout",
     "output_type": "stream",
     "text": [
      "O percentual de Acerto de Matematica é Qt_acertos    49.375\n",
      "dtype: float64 porcento Total de Pontos Qt_acertos    1185\n",
      "dtype: int64 \n",
      "O percentual de Acerto de Portugues é Qt_acertos    40.166667\n",
      "dtype: float64 porcento Total de Pontos Qt_acertos    723\n",
      "dtype: int64 \n",
      "O percentual de Acerto de Geografia é Qt_acertos    42.0\n",
      "dtype: float64 porcento Total de Pontos Qt_acertos    336\n",
      "dtype: int64 \n",
      "O percentual de Acerto de Ingles é Qt_acertos    47.625\n",
      "dtype: float64 porcento Total de Pontos Qt_acertos    381\n",
      "dtype: int64 \n",
      "O percentual de Acerto de Historia é Qt_acertos    45.0\n",
      "dtype: float64 porcento Total de Pontos Qt_acertos    360\n",
      "dtype: int64 \n",
      "O percentual de Acerto de Fisica é Qt_acertos    44.333333\n",
      "dtype: float64 porcento Total de Pontos Qt_acertos    532\n",
      "dtype: int64 \n",
      "O percentual de Acerto de Quimica é Qt_acertos    45.25\n",
      "dtype: float64 porcento Total de Pontos Qt_acertos    543\n",
      "dtype: int64 \n"
     ]
    }
   ],
   "source": [
    "# 1) Seu código aqui\n",
    "\n",
    "pc_mat = df_mat / 24\n",
    "pc_por = df_por / 18\n",
    "pc_geo = df_geo /  8\n",
    "pc_ing = df_ing /  8\n",
    "pc_his = df_his /  8\n",
    "pc_fis = df_fis /  8\n",
    "pc_qui = df_qui /  8\n",
    "\n",
    "print(\"O percentual de Acerto de Matematica é {} porcento Total de Pontos {} \".format((df_mat.sum() /2400)*100,df_mat.sum()))\n",
    "print(\"O percentual de Acerto de Portugues é {} porcento Total de Pontos {} \".format(df_por.sum() /1800 *100 ,df_por.sum()))\n",
    "print(\"O percentual de Acerto de Geografia é {} porcento Total de Pontos {} \".format((df_geo.sum() /800)*100,df_geo.sum()))\n",
    "print(\"O percentual de Acerto de Ingles é {} porcento Total de Pontos {} \".format((df_ing.sum() /800)*100,df_ing.sum()))\n",
    "print(\"O percentual de Acerto de Historia é {} porcento Total de Pontos {} \".format((df_his.sum() /800)*100,df_his.sum()))\n",
    "print(\"O percentual de Acerto de Fisica é {} porcento Total de Pontos {} \".format((df_fis.sum() /1200)*100,df_fis.sum()))\n",
    "print(\"O percentual de Acerto de Quimica é {} porcento Total de Pontos {} \".format((df_qui.sum() /1200)*100,df_qui.sum()))"
   ]
  },
  {
   "cell_type": "code",
   "execution_count": 5,
   "metadata": {},
   "outputs": [
    {
     "name": "stdout",
     "output_type": "stream",
     "text": [
      "O Total de pontos foi Qt_acertos    4060\n",
      "dtype: int64 de 8200\n"
     ]
    }
   ],
   "source": [
    "# 2) Seu código aqui\n",
    "total = df_mat + df_por + df_geo + df_ing + df_his + df_fis + df_qui\n",
    "total_nota = 2400+1800+800+800+1200+1200\n",
    "print(\"O Total de pontos foi {} de {}\".format(total.sum(),total_nota))"
   ]
  },
  {
   "cell_type": "code",
   "execution_count": 6,
   "metadata": {},
   "outputs": [
    {
     "name": "stdout",
     "output_type": "stream",
     "text": [
      "O percentual de pontos foi Qt_acertos    50.0\n",
      "dtype: float64  \n"
     ]
    }
   ],
   "source": [
    "# 3) Seu código aqui\n",
    "print(\"O percentual de pontos foi {}  \".format(round(total.sum()/total_nota*100)))"
   ]
  },
  {
   "cell_type": "code",
   "execution_count": 7,
   "metadata": {},
   "outputs": [
    {
     "data": {
      "text/plain": [
       "Qt_acertos    1615\n",
       "dtype: int64"
      ]
     },
     "execution_count": 7,
     "metadata": {},
     "output_type": "execute_result"
    }
   ],
   "source": [
    "# 4) Seu código aqui\n",
    "total_gt_45 = total[total['Qt_acertos'] > 45]\n",
    "total_gt_45.sum()"
   ]
  },
  {
   "cell_type": "markdown",
   "metadata": {},
   "source": [
    "## 2) Vestibular II\n",
    "\n",
    "Ainda sobre o mesmo banco de dados:\n",
    "\n",
    "1. Neste vestibular, quem 'zera' em matemática, física ou química está desqualificado. Monte um novo *DataFrame* com os alunos desqualificados por este critério.\n",
    "2. Quantos são esses alunos?\n",
    "3. Qual a média desses alunos em história e geografia?\n",
    "4. Monte um *DataFrame* com os alunos que passaram para a segunda fase. Repare que estes alunos não podem ter sido desqualificados."
   ]
  },
  {
   "cell_type": "code",
   "execution_count": 8,
   "metadata": {},
   "outputs": [
    {
     "data": {
      "text/plain": [
       "Qt_acertos    23\n",
       "dtype: int64"
      ]
     },
     "execution_count": 8,
     "metadata": {},
     "output_type": "execute_result"
    }
   ],
   "source": [
    "# seu código aqui\n",
    "df_eliminados = total[(df_mat['Qt_acertos'] == 0) | \n",
    "                      (df_fis['Qt_acertos'] == 0) | \n",
    "                      (df_qui['Qt_acertos'] == 0)]\n",
    "\n",
    "df_eliminados.count()"
   ]
  },
  {
   "cell_type": "code",
   "execution_count": 9,
   "metadata": {},
   "outputs": [
    {
     "data": {
      "text/plain": [
       "Qt_acertos    37.173913\n",
       "dtype: float64"
      ]
     },
     "execution_count": 9,
     "metadata": {},
     "output_type": "execute_result"
    }
   ],
   "source": [
    "df_eliminados.mean()"
   ]
  },
  {
   "cell_type": "code",
   "execution_count": 10,
   "metadata": {},
   "outputs": [
    {
     "data": {
      "text/plain": [
       "Qt_acertos    3.6\n",
       "dtype: float64"
      ]
     },
     "execution_count": 10,
     "metadata": {},
     "output_type": "execute_result"
    }
   ],
   "source": [
    "df_his[['Qt_acertos']].mean()"
   ]
  },
  {
   "cell_type": "code",
   "execution_count": 11,
   "metadata": {},
   "outputs": [
    {
     "data": {
      "text/plain": [
       "Qt_acertos    3.36\n",
       "dtype: float64"
      ]
     },
     "execution_count": 11,
     "metadata": {},
     "output_type": "execute_result"
    }
   ],
   "source": [
    "df_geo[['Qt_acertos']].mean()"
   ]
  },
  {
   "cell_type": "code",
   "execution_count": 12,
   "metadata": {},
   "outputs": [
    {
     "data": {
      "text/plain": [
       "Qt_acertos    77\n",
       "dtype: int64"
      ]
     },
     "execution_count": 12,
     "metadata": {},
     "output_type": "execute_result"
    }
   ],
   "source": [
    "df_passaram = total[(df_mat['Qt_acertos'] > 0) | \n",
    "                      (df_fis['Qt_acertos'] > 0) | \n",
    "                      (df_qui['Qt_acertos'] > 0)]\n",
    "\n",
    "df_passaram.count() - df_eliminados.count()"
   ]
  },
  {
   "cell_type": "markdown",
   "metadata": {},
   "source": [
    "## 3) Vacinações no Acre\n",
    "Vamos trabalhar agora com a base de vacinações no Acre. Para facilitar a sua vida, copiamos o link do arquivo na célula abaixo.\n",
    "\n",
    "1. Quantas vacinas estão registradas nessa base?  \n",
    "2. Quantos pacientes foram vacinados? (considere um paciente para cada valor único de ```paciente_id```)  \n",
    "3. Quantos pacientes únicos tomaram a primeira dose? OBS: Há um caractere especial neste campo. Receba os valores do campo com o método ```.unique()```.   \n",
    "4. Quantos pacientes com menos de 18 anos foram vacinados?  \n",
    "5. Quantos estabelecimentos aplicaram vacina no Acre?\n",
    "\n",
    "\n",
    "**OBS:** O portal do DATASUS pode apresentar instabilidades, retornando um erro na segunda célula abaixo. Por este motivo está disponível uma base estática, que se for baixada para o seu *working directory* pode ser lida com este comando: ```df = pd.read_csv('registros de vacinacao covid ACRE.csv', sep=';')```.\n",
    "\n",
    "**OBS2:** Para saber qual é o seu working directory, rode no jupyter: ```!pwd```."
   ]
  },
  {
   "cell_type": "code",
   "execution_count": 13,
   "metadata": {},
   "outputs": [],
   "source": [
    "# 1) Sua solução aqui\n",
    "df = pd.read_csv(r\"C:\\Users\\POSITIVO\\Desktop\\Desktop\\Curso Ciencias de dados Ebac\\Ciencias de dados\\modulo4\\exercicio2\\registros de vacinacao covid ACRE.csv\", sep=';')\n",
    "##df.head()"
   ]
  },
  {
   "cell_type": "code",
   "execution_count": 14,
   "metadata": {},
   "outputs": [
    {
     "data": {
      "text/html": [
       "<div>\n",
       "<style scoped>\n",
       "    .dataframe tbody tr th:only-of-type {\n",
       "        vertical-align: middle;\n",
       "    }\n",
       "\n",
       "    .dataframe tbody tr th {\n",
       "        vertical-align: top;\n",
       "    }\n",
       "\n",
       "    .dataframe thead th {\n",
       "        text-align: right;\n",
       "    }\n",
       "</style>\n",
       "<table border=\"1\" class=\"dataframe\">\n",
       "  <thead>\n",
       "    <tr style=\"text-align: right;\">\n",
       "      <th></th>\n",
       "      <th>document_id</th>\n",
       "      <th>paciente_id</th>\n",
       "      <th>paciente_idade</th>\n",
       "      <th>paciente_datanascimento</th>\n",
       "      <th>paciente_enumsexobiologico</th>\n",
       "      <th>paciente_racacor_codigo</th>\n",
       "      <th>paciente_racacor_valor</th>\n",
       "      <th>paciente_endereco_coibgemunicipio</th>\n",
       "      <th>paciente_endereco_copais</th>\n",
       "      <th>paciente_endereco_nmmunicipio</th>\n",
       "      <th>...</th>\n",
       "      <th>vacina_lote</th>\n",
       "      <th>vacina_fabricante_nome</th>\n",
       "      <th>vacina_fabricante_referencia</th>\n",
       "      <th>vacina_dataaplicacao</th>\n",
       "      <th>vacina_descricao_dose</th>\n",
       "      <th>vacina_codigo</th>\n",
       "      <th>vacina_nome</th>\n",
       "      <th>sistema_origem</th>\n",
       "      <th>data_importacao_rnds</th>\n",
       "      <th>id_sistema_origem</th>\n",
       "    </tr>\n",
       "  </thead>\n",
       "  <tbody>\n",
       "    <tr>\n",
       "      <th>0</th>\n",
       "      <td>b19cd280-474c-4c22-a35d-8c06bc04a4e0-i0b0</td>\n",
       "      <td>2e091c9a37d3f50d1d705fc80c6448c6fc69b44da9e936...</td>\n",
       "      <td>69</td>\n",
       "      <td>1951-12-28</td>\n",
       "      <td>F</td>\n",
       "      <td>3</td>\n",
       "      <td>PARDA</td>\n",
       "      <td>120050.0</td>\n",
       "      <td>10.0</td>\n",
       "      <td>SENA MADUREIRA</td>\n",
       "      <td>...</td>\n",
       "      <td>210052A</td>\n",
       "      <td>FUNDACAO BUTANTAN</td>\n",
       "      <td>Organization/61189445000156</td>\n",
       "      <td>2021-03-23</td>\n",
       "      <td>1ª Dose</td>\n",
       "      <td>86</td>\n",
       "      <td>Covid-19-Coronavac-Sinovac/Butantan</td>\n",
       "      <td>Novo PNI</td>\n",
       "      <td>2021-03-25T03:27:19.000Z</td>\n",
       "      <td>NaN</td>\n",
       "    </tr>\n",
       "    <tr>\n",
       "      <th>1</th>\n",
       "      <td>a1acc0b6-1cf6-4c4b-adcb-06b473a0faaf-i0b0</td>\n",
       "      <td>f4e17a9e5354cb45e223d85eda02fb2f76048c801675f5...</td>\n",
       "      <td>81</td>\n",
       "      <td>1939-11-22</td>\n",
       "      <td>M</td>\n",
       "      <td>3</td>\n",
       "      <td>PARDA</td>\n",
       "      <td>120040.0</td>\n",
       "      <td>10.0</td>\n",
       "      <td>RIO BRANCO</td>\n",
       "      <td>...</td>\n",
       "      <td>210110</td>\n",
       "      <td>FUNDACAO BUTANTAN</td>\n",
       "      <td>Organization/61189445000156</td>\n",
       "      <td>2021-04-29</td>\n",
       "      <td>2ª Dose</td>\n",
       "      <td>86</td>\n",
       "      <td>Covid-19-Coronavac-Sinovac/Butantan</td>\n",
       "      <td>Novo PNI</td>\n",
       "      <td>2021-04-30T16:03:14.000Z</td>\n",
       "      <td>NaN</td>\n",
       "    </tr>\n",
       "    <tr>\n",
       "      <th>2</th>\n",
       "      <td>af279a98-ba1f-47ea-8214-314a98040b0d-i0b0</td>\n",
       "      <td>6734b26bccf826130ebffa66575977bbe71477b12bcf42...</td>\n",
       "      <td>69</td>\n",
       "      <td>1951-08-14</td>\n",
       "      <td>M</td>\n",
       "      <td>4</td>\n",
       "      <td>AMARELA</td>\n",
       "      <td>120020.0</td>\n",
       "      <td>10.0</td>\n",
       "      <td>CRUZEIRO DO SUL</td>\n",
       "      <td>...</td>\n",
       "      <td>210135</td>\n",
       "      <td>FUNDACAO BUTANTAN</td>\n",
       "      <td>Organization/61189445000156</td>\n",
       "      <td>2021-04-16</td>\n",
       "      <td>1ª Dose</td>\n",
       "      <td>86</td>\n",
       "      <td>Covid-19-Coronavac-Sinovac/Butantan</td>\n",
       "      <td>Novo PNI</td>\n",
       "      <td>2021-04-16T15:54:39.000Z</td>\n",
       "      <td>NaN</td>\n",
       "    </tr>\n",
       "    <tr>\n",
       "      <th>3</th>\n",
       "      <td>4879308e-5050-46bb-b8e2-11fa5646a05c-i0b0</td>\n",
       "      <td>84a341fd350c1ba7117fccbb4d2df417bc0fac0fffac37...</td>\n",
       "      <td>51</td>\n",
       "      <td>1969-12-15</td>\n",
       "      <td>F</td>\n",
       "      <td>3</td>\n",
       "      <td>PARDA</td>\n",
       "      <td>120040.0</td>\n",
       "      <td>10.0</td>\n",
       "      <td>RIO BRANCO</td>\n",
       "      <td>...</td>\n",
       "      <td>202010040</td>\n",
       "      <td>FUNDACAO BUTANTAN</td>\n",
       "      <td>Organization/61189445000156</td>\n",
       "      <td>2021-02-19</td>\n",
       "      <td>2ª Dose</td>\n",
       "      <td>86</td>\n",
       "      <td>Covid-19-Coronavac-Sinovac/Butantan</td>\n",
       "      <td>Novo PNI</td>\n",
       "      <td>2021-03-10T14:40:54.000Z</td>\n",
       "      <td>NaN</td>\n",
       "    </tr>\n",
       "    <tr>\n",
       "      <th>4</th>\n",
       "      <td>000e911b-e3a4-4114-a735-d1f2e6e3797f-i0b0</td>\n",
       "      <td>c59571e19f368d4b0cf08cd3bcabb32e5cd8baad5340f6...</td>\n",
       "      <td>65</td>\n",
       "      <td>1955-11-21</td>\n",
       "      <td>M</td>\n",
       "      <td>3</td>\n",
       "      <td>PARDA</td>\n",
       "      <td>120040.0</td>\n",
       "      <td>10.0</td>\n",
       "      <td>RIO BRANCO</td>\n",
       "      <td>...</td>\n",
       "      <td>212VCD001ZVB</td>\n",
       "      <td>FUNDACAO OSWALDO CRUZ</td>\n",
       "      <td>Organization/33781055000135</td>\n",
       "      <td>2021-03-29</td>\n",
       "      <td>1ª Dose</td>\n",
       "      <td>85</td>\n",
       "      <td>Vacina Covid-19 - Covishield</td>\n",
       "      <td>Novo PNI</td>\n",
       "      <td>2021-04-03T19:44:28.000Z</td>\n",
       "      <td>NaN</td>\n",
       "    </tr>\n",
       "  </tbody>\n",
       "</table>\n",
       "<p>5 rows × 34 columns</p>\n",
       "</div>"
      ],
      "text/plain": [
       "                                 document_id  \\\n",
       "0  b19cd280-474c-4c22-a35d-8c06bc04a4e0-i0b0   \n",
       "1  a1acc0b6-1cf6-4c4b-adcb-06b473a0faaf-i0b0   \n",
       "2  af279a98-ba1f-47ea-8214-314a98040b0d-i0b0   \n",
       "3  4879308e-5050-46bb-b8e2-11fa5646a05c-i0b0   \n",
       "4  000e911b-e3a4-4114-a735-d1f2e6e3797f-i0b0   \n",
       "\n",
       "                                         paciente_id  paciente_idade  \\\n",
       "0  2e091c9a37d3f50d1d705fc80c6448c6fc69b44da9e936...              69   \n",
       "1  f4e17a9e5354cb45e223d85eda02fb2f76048c801675f5...              81   \n",
       "2  6734b26bccf826130ebffa66575977bbe71477b12bcf42...              69   \n",
       "3  84a341fd350c1ba7117fccbb4d2df417bc0fac0fffac37...              51   \n",
       "4  c59571e19f368d4b0cf08cd3bcabb32e5cd8baad5340f6...              65   \n",
       "\n",
       "  paciente_datanascimento paciente_enumsexobiologico  paciente_racacor_codigo  \\\n",
       "0              1951-12-28                          F                        3   \n",
       "1              1939-11-22                          M                        3   \n",
       "2              1951-08-14                          M                        4   \n",
       "3              1969-12-15                          F                        3   \n",
       "4              1955-11-21                          M                        3   \n",
       "\n",
       "  paciente_racacor_valor  paciente_endereco_coibgemunicipio  \\\n",
       "0                  PARDA                           120050.0   \n",
       "1                  PARDA                           120040.0   \n",
       "2                AMARELA                           120020.0   \n",
       "3                  PARDA                           120040.0   \n",
       "4                  PARDA                           120040.0   \n",
       "\n",
       "   paciente_endereco_copais paciente_endereco_nmmunicipio  ...   vacina_lote  \\\n",
       "0                      10.0                SENA MADUREIRA  ...       210052A   \n",
       "1                      10.0                    RIO BRANCO  ...        210110   \n",
       "2                      10.0               CRUZEIRO DO SUL  ...        210135   \n",
       "3                      10.0                    RIO BRANCO  ...     202010040   \n",
       "4                      10.0                    RIO BRANCO  ...  212VCD001ZVB   \n",
       "\n",
       "  vacina_fabricante_nome  vacina_fabricante_referencia vacina_dataaplicacao  \\\n",
       "0      FUNDACAO BUTANTAN   Organization/61189445000156           2021-03-23   \n",
       "1      FUNDACAO BUTANTAN   Organization/61189445000156           2021-04-29   \n",
       "2      FUNDACAO BUTANTAN   Organization/61189445000156           2021-04-16   \n",
       "3      FUNDACAO BUTANTAN   Organization/61189445000156           2021-02-19   \n",
       "4  FUNDACAO OSWALDO CRUZ   Organization/33781055000135           2021-03-29   \n",
       "\n",
       "   vacina_descricao_dose vacina_codigo                          vacina_nome  \\\n",
       "0                1ª Dose            86  Covid-19-Coronavac-Sinovac/Butantan   \n",
       "1                2ª Dose            86  Covid-19-Coronavac-Sinovac/Butantan   \n",
       "2                1ª Dose            86  Covid-19-Coronavac-Sinovac/Butantan   \n",
       "3                2ª Dose            86  Covid-19-Coronavac-Sinovac/Butantan   \n",
       "4                1ª Dose            85         Vacina Covid-19 - Covishield   \n",
       "\n",
       "   sistema_origem      data_importacao_rnds id_sistema_origem  \n",
       "0        Novo PNI  2021-03-25T03:27:19.000Z               NaN  \n",
       "1        Novo PNI  2021-04-30T16:03:14.000Z               NaN  \n",
       "2        Novo PNI  2021-04-16T15:54:39.000Z               NaN  \n",
       "3        Novo PNI  2021-03-10T14:40:54.000Z               NaN  \n",
       "4        Novo PNI  2021-04-03T19:44:28.000Z               NaN  \n",
       "\n",
       "[5 rows x 34 columns]"
      ]
     },
     "execution_count": 14,
     "metadata": {},
     "output_type": "execute_result"
    }
   ],
   "source": [
    "df.head()"
   ]
  },
  {
   "cell_type": "code",
   "execution_count": 15,
   "metadata": {},
   "outputs": [
    {
     "data": {
      "text/plain": [
       "Index(['document_id', 'paciente_id', 'paciente_idade',\n",
       "       'paciente_datanascimento', 'paciente_enumsexobiologico',\n",
       "       'paciente_racacor_codigo', 'paciente_racacor_valor',\n",
       "       'paciente_endereco_coibgemunicipio', 'paciente_endereco_copais',\n",
       "       'paciente_endereco_nmmunicipio', 'paciente_endereco_nmpais',\n",
       "       'paciente_endereco_uf', 'paciente_endereco_cep',\n",
       "       'paciente_nacionalidade_enumnacionalidade', 'estabelecimento_valor',\n",
       "       'estabelecimento_razaosocial', 'estalecimento_nofantasia',\n",
       "       'estabelecimento_municipio_codigo', 'estabelecimento_municipio_nome',\n",
       "       'estabelecimento_uf', 'vacina_grupoatendimento_codigo',\n",
       "       'vacina_grupoatendimento_nome', 'vacina_categoria_codigo',\n",
       "       'vacina_categoria_nome', 'vacina_lote', 'vacina_fabricante_nome',\n",
       "       'vacina_fabricante_referencia', 'vacina_dataaplicacao',\n",
       "       'vacina_descricao_dose', 'vacina_codigo', 'vacina_nome',\n",
       "       'sistema_origem', 'data_importacao_rnds', 'id_sistema_origem'],\n",
       "      dtype='object')"
      ]
     },
     "execution_count": 15,
     "metadata": {},
     "output_type": "execute_result"
    }
   ],
   "source": [
    "df.columns.unique()"
   ]
  },
  {
   "cell_type": "code",
   "execution_count": 16,
   "metadata": {},
   "outputs": [
    {
     "data": {
      "text/plain": [
       "(169071, 34)"
      ]
     },
     "execution_count": 16,
     "metadata": {},
     "output_type": "execute_result"
    }
   ],
   "source": [
    "df.shape # Linhas e Colunas"
   ]
  },
  {
   "cell_type": "markdown",
   "metadata": {},
   "source": [
    "## <font color = \"Cinze\"> O total de vacinas diferentes é de 5 </font>"
   ]
  },
  {
   "cell_type": "code",
   "execution_count": 17,
   "metadata": {},
   "outputs": [
    {
     "data": {
      "text/plain": [
       "array([86, 85, 89, 87, 88], dtype=int64)"
      ]
     },
     "execution_count": 17,
     "metadata": {},
     "output_type": "execute_result"
    }
   ],
   "source": [
    "df[\"vacina_codigo\"].unique()"
   ]
  },
  {
   "cell_type": "code",
   "execution_count": 18,
   "metadata": {},
   "outputs": [
    {
     "data": {
      "text/plain": [
       "5"
      ]
     },
     "execution_count": 18,
     "metadata": {},
     "output_type": "execute_result"
    }
   ],
   "source": [
    "df[\"vacina_codigo\"].nunique()"
   ]
  },
  {
   "cell_type": "markdown",
   "metadata": {},
   "source": [
    "## <font color = \"Cinze\"> O total de pacientes vacinados 120517 </font>"
   ]
  },
  {
   "cell_type": "code",
   "execution_count": 19,
   "metadata": {},
   "outputs": [
    {
     "data": {
      "text/plain": [
       "120517"
      ]
     },
     "execution_count": 19,
     "metadata": {},
     "output_type": "execute_result"
    }
   ],
   "source": [
    "# 2) \n",
    "df['paciente_id'].nunique()"
   ]
  },
  {
   "cell_type": "markdown",
   "metadata": {},
   "source": [
    "## <font color = \"Cinze\"> Quantos pacientes únicos tomaram a primeira dose?  </font>"
   ]
  },
  {
   "cell_type": "code",
   "execution_count": 20,
   "metadata": {},
   "outputs": [
    {
     "data": {
      "text/plain": [
       "119713"
      ]
     },
     "execution_count": 20,
     "metadata": {},
     "output_type": "execute_result"
    }
   ],
   "source": [
    "# 3) \n",
    "primeira_dose = df['vacina_descricao_dose'].unique()[0]\n",
    "df['paciente_id'].loc[df['vacina_descricao_dose'] == primeira_dose].nunique()"
   ]
  },
  {
   "cell_type": "code",
   "execution_count": 21,
   "metadata": {},
   "outputs": [
    {
     "data": {
      "text/plain": [
       "array(['\\xa0\\xa0\\xa0\\xa01ª\\xa0Dose', '\\xa0\\xa0\\xa0\\xa02ª\\xa0Dose',\n",
       "       '\\xa0\\xa0\\xa0\\xa0Dose\\xa0'], dtype=object)"
      ]
     },
     "execution_count": 21,
     "metadata": {},
     "output_type": "execute_result"
    }
   ],
   "source": [
    "df['vacina_descricao_dose'].unique()"
   ]
  },
  {
   "cell_type": "code",
   "execution_count": 22,
   "metadata": {},
   "outputs": [
    {
     "data": {
      "text/plain": [
       "120939"
      ]
     },
     "execution_count": 22,
     "metadata": {},
     "output_type": "execute_result"
    }
   ],
   "source": [
    "# Minha solução\n",
    "qtd_primera_dose =df[df['vacina_descricao_dose']=='\\xa0\\xa0\\xa0\\xa01ª\\xa0Dose']\n",
    "qtd_primera_dose[\"paciente_id\"].count()"
   ]
  },
  {
   "cell_type": "code",
   "execution_count": 23,
   "metadata": {},
   "outputs": [
    {
     "data": {
      "text/plain": [
       "120939"
      ]
     },
     "execution_count": 23,
     "metadata": {},
     "output_type": "execute_result"
    }
   ],
   "source": [
    "df2 = df[df['vacina_descricao_dose']=='\\xa0\\xa0\\xa0\\xa01ª\\xa0Dose']\n",
    "df2[\"document_id\"].count()"
   ]
  },
  {
   "cell_type": "code",
   "execution_count": 24,
   "metadata": {},
   "outputs": [
    {
     "data": {
      "text/plain": [
       "119713"
      ]
     },
     "execution_count": 24,
     "metadata": {},
     "output_type": "execute_result"
    }
   ],
   "source": [
    "# 3) solução alternativa\n",
    "primeira_dose = df['vacina_descricao_dose'].unique()[0]\n",
    "df_primeira_dose = df[df['vacina_descricao_dose'] == primeira_dose]\n",
    "df_primeira_dose['paciente_id'].nunique()"
   ]
  },
  {
   "cell_type": "markdown",
   "metadata": {},
   "source": [
    "## <font color = \"Cinze\"> Quantos pacientes com menos de 18 anos foram vacinados </font>"
   ]
  },
  {
   "cell_type": "code",
   "execution_count": 25,
   "metadata": {},
   "outputs": [
    {
     "data": {
      "text/plain": [
       "55"
      ]
     },
     "execution_count": 25,
     "metadata": {},
     "output_type": "execute_result"
    }
   ],
   "source": [
    "# 4) \n",
    "df_menor = df[df[\"paciente_idade\"]<18]\n",
    "df_menor['paciente_id'].count()"
   ]
  },
  {
   "cell_type": "markdown",
   "metadata": {},
   "source": [
    "## <font color = \"Cinze\"> Quantos estabelecimentos aplicaram vacina no Acre? </font>"
   ]
  },
  {
   "cell_type": "code",
   "execution_count": 26,
   "metadata": {},
   "outputs": [
    {
     "data": {
      "text/plain": [
       "42"
      ]
     },
     "execution_count": 26,
     "metadata": {},
     "output_type": "execute_result"
    }
   ],
   "source": [
    "# 5)\n",
    "df['estabelecimento_razaosocial'].nunique()"
   ]
  },
  {
   "cell_type": "code",
   "execution_count": 27,
   "metadata": {},
   "outputs": [
    {
     "data": {
      "text/plain": [
       "PREFEITURA MUNICIPAL DE RIO BRANCO                              74191\n",
       "PREFEITURA MUNICIPAL DE CRUZEIRO DO SUL                         17215\n",
       "DISTRITO SANITARIO ESPECIAL INDIGENA ALTO RIO JURUA              6570\n",
       "PREFEITURA MUNICIPAL DE TARAUACA                                 6065\n",
       "PREFEITURA MUNICIPAL DE BRASILEIA                                5256\n",
       "PREFEITURA MUNICIPAL DE SENA MADUREIRA                           4550\n",
       "PREFEITURA MUN DE MAL THAUMATURGO                                4209\n",
       "PREFEITURA MUNICIPAL DE FEIJO                                    4160\n",
       "PREFEITURA MUNICIPAL DE SENADOR GUIOMARD                         3776\n",
       "PREFEITURA MUNICIPAL DE XAPURI                                   3608\n",
       "PREFEITURA MUNICIPAL DE PORTO ACRE                               3447\n",
       "PREFEITURA MUNICIPAL DE EPITACIOLANDIA                           2955\n",
       "PREFEITURA MUNICIPAL DE RODRIGUES ALVES                          2951\n",
       "SECRETARIA MUNICIPAL DE SAUDE                                    2941\n",
       "PREFEITURA MUNICIPAL DE MANCIO LIMA                              2848\n",
       "PREFEITURA MUNICIPAL DE ASSIS BRASIL                             2561\n",
       "PREFEITURA MUNICIPAL DE PORTO WALTER                             2408\n",
       "PREFEITURA MUNICIPAL DE ACRELANDIA                               2314\n",
       "PREFEITURA MUNICIPAL DE CAPIXABA                                 2242\n",
       "PREFEITURA MUNICIIPAL DE SENA MADUREIRA                          2161\n",
       "SECRETARIA MUNCIPAL DE SAUDE                                     2016\n",
       "PREFEITURA MUNICIPAL DE MANUEL URBANO                            1594\n",
       "DISTRITO SANITARIO ESPECIAL INDIGENA ALTO RIO PURUS              1488\n",
       "PREFEITURA MUNICIPAL DE JORDAO                                   1426\n",
       "DISTRITO SANITARIO ESPECIAL INDIGENA ALTO JURUA                  1314\n",
       "SECRETARIA DE ESTADO DE SAUDE                                    1045\n",
       "PREFEITURA MUNICIPAL DE SANTA ROSA DO PURUS                      1028\n",
       "DISTRITO SANITARIO ESPECIAL DE SAUDE INDIGENA ALTO RIO PURUS      735\n",
       "SECRETARIA DE ESTADO DE SAUDE DO ACRE                             644\n",
       "MINISTERIO DA SAUDE                                               486\n",
       "PREFEITURA MUNICIPAL DE SAUDE                                     353\n",
       "MUNICIPIO DE PORTO WALTER                                         266\n",
       "PREFEITURA MUNICIPAL MANCIO LIMA                                  133\n",
       "PREFEITURA MUNICIPAL DE SENADOR                                    32\n",
       "LUIZ AUGUSTO NO BATISTA                                            20\n",
       "61 BIS                                                             14\n",
       "A M COMERCIO E REPRESENTACOES LTDA                                 13\n",
       "CENTRO DE DIAGNOSTICOS CITOLAB LTDA                                13\n",
       "PREFEITURA MUNICIPAL DE PLACIDO DE CASTRO                          13\n",
       "K M OLIVEIRA EIRELI                                                 6\n",
       "MUNICIPIO DE RIO BRANCO                                             3\n",
       "MARIA SUELI VALE DOS SANTOS                                         1\n",
       "Name: estabelecimento_razaosocial, dtype: int64"
      ]
     },
     "execution_count": 27,
     "metadata": {},
     "output_type": "execute_result"
    }
   ],
   "source": [
    "df[\"estabelecimento_razaosocial\"].value_counts()"
   ]
  },
  {
   "cell_type": "markdown",
   "metadata": {},
   "source": [
    "## 4) Vacinação II\n",
    "Gere um *DataFrame* que contenha somente os estabelecimentos que aplicaram vcinas a menores de 18 anos. Nesse *DataFrame* devem conter somente os dados dos estabelecimentos, mais uma coluna sendo a quantidade de vacinas que o estabelecimento aplicou a menores de 18 anos.  \n",
    "  \n",
    "1. crie uma cópia do *DataFrame* original, contendo somente os registros de vacinas realizadas a menores de 18 anos.  \n",
    "2. crie uma lista das colunas desse *DataFrame* com o atributo de *DataFrame* **.columns()**  \n",
    "3. Nesse *DataFrame* faça uma contagem do campo ```vacina_categoria_nome```.\n",
    "3. a partir da lista de colunas, escolha somente aquelas que são referentes ao estabelecimento, faça uma lista com esses valores.  \n",
    "4. usando o método *.loc*, selecione somente essas variáveis  \n",
    "5. Aplique o método **.drop_duplicates** e crie uma lista com uma linha para cada estabelecimento, com os dados do estabelecimento  "
   ]
  },
  {
   "cell_type": "code",
   "execution_count": 28,
   "metadata": {},
   "outputs": [],
   "source": [
    "# 1) \n",
    "df_menor = df[df[\"paciente_idade\"]<18].copy()"
   ]
  },
  {
   "cell_type": "code",
   "execution_count": 29,
   "metadata": {},
   "outputs": [
    {
     "data": {
      "text/plain": [
       "Index(['document_id', 'paciente_id', 'paciente_idade',\n",
       "       'paciente_datanascimento', 'paciente_enumsexobiologico',\n",
       "       'paciente_racacor_codigo', 'paciente_racacor_valor',\n",
       "       'paciente_endereco_coibgemunicipio', 'paciente_endereco_copais',\n",
       "       'paciente_endereco_nmmunicipio', 'paciente_endereco_nmpais',\n",
       "       'paciente_endereco_uf', 'paciente_endereco_cep',\n",
       "       'paciente_nacionalidade_enumnacionalidade', 'estabelecimento_valor',\n",
       "       'estabelecimento_razaosocial', 'estalecimento_nofantasia',\n",
       "       'estabelecimento_municipio_codigo', 'estabelecimento_municipio_nome',\n",
       "       'estabelecimento_uf', 'vacina_grupoatendimento_codigo',\n",
       "       'vacina_grupoatendimento_nome', 'vacina_categoria_codigo',\n",
       "       'vacina_categoria_nome', 'vacina_lote', 'vacina_fabricante_nome',\n",
       "       'vacina_fabricante_referencia', 'vacina_dataaplicacao',\n",
       "       'vacina_descricao_dose', 'vacina_codigo', 'vacina_nome',\n",
       "       'sistema_origem', 'data_importacao_rnds', 'id_sistema_origem'],\n",
       "      dtype='object')"
      ]
     },
     "execution_count": 29,
     "metadata": {},
     "output_type": "execute_result"
    }
   ],
   "source": [
    "# 2) \n",
    "df_menor.columns"
   ]
  },
  {
   "cell_type": "code",
   "execution_count": 30,
   "metadata": {},
   "outputs": [
    {
     "data": {
      "text/plain": [
       "Povos Indígenas                     33\n",
       "Trabalhadores de Saúde               9\n",
       "Povos e Comunidades Tradicionais     9\n",
       "Comorbidades                         2\n",
       "Faixa Etária                         1\n",
       "Name: vacina_categoria_nome, dtype: int64"
      ]
     },
     "execution_count": 30,
     "metadata": {},
     "output_type": "execute_result"
    }
   ],
   "source": [
    "# 3)\n",
    "df_menor['vacina_categoria_nome'].value_counts()"
   ]
  },
  {
   "cell_type": "code",
   "execution_count": 31,
   "metadata": {},
   "outputs": [
    {
     "data": {
      "text/html": [
       "<div>\n",
       "<style scoped>\n",
       "    .dataframe tbody tr th:only-of-type {\n",
       "        vertical-align: middle;\n",
       "    }\n",
       "\n",
       "    .dataframe tbody tr th {\n",
       "        vertical-align: top;\n",
       "    }\n",
       "\n",
       "    .dataframe thead th {\n",
       "        text-align: right;\n",
       "    }\n",
       "</style>\n",
       "<table border=\"1\" class=\"dataframe\">\n",
       "  <thead>\n",
       "    <tr style=\"text-align: right;\">\n",
       "      <th></th>\n",
       "      <th>estabelecimento_valor</th>\n",
       "      <th>estabelecimento_razaosocial</th>\n",
       "      <th>estalecimento_nofantasia</th>\n",
       "      <th>estabelecimento_municipio_codigo</th>\n",
       "      <th>estabelecimento_municipio_nome</th>\n",
       "      <th>estabelecimento_uf</th>\n",
       "    </tr>\n",
       "  </thead>\n",
       "  <tbody>\n",
       "    <tr>\n",
       "      <th>1567</th>\n",
       "      <td>2001314</td>\n",
       "      <td>PREFEITURA MUNICIPAL DE EPITACIOLANDIA</td>\n",
       "      <td>ESF JOAO ALVES DA SILVA</td>\n",
       "      <td>120025</td>\n",
       "      <td>EPITACIOLANDIA</td>\n",
       "      <td>AC</td>\n",
       "    </tr>\n",
       "    <tr>\n",
       "      <th>6250</th>\n",
       "      <td>6917291</td>\n",
       "      <td>PREFEITURA MUNICIPAL DE RIO BRANCO</td>\n",
       "      <td>DEPARTAMENTO DE VIGILANCIA EPIDEMIOLOGICA E AM...</td>\n",
       "      <td>120040</td>\n",
       "      <td>RIO BRANCO</td>\n",
       "      <td>AC</td>\n",
       "    </tr>\n",
       "    <tr>\n",
       "      <th>9569</th>\n",
       "      <td>6159087</td>\n",
       "      <td>PREFEITURA MUNICIPAL DE CRUZEIRO DO SUL</td>\n",
       "      <td>SECRETARIA MUNICIPAL DE SAUDE DE CRUZEIRO DO SUL</td>\n",
       "      <td>120020</td>\n",
       "      <td>CRUZEIRO DO SUL</td>\n",
       "      <td>AC</td>\n",
       "    </tr>\n",
       "    <tr>\n",
       "      <th>11338</th>\n",
       "      <td>2000040</td>\n",
       "      <td>PREFEITURA MUNICIPAL DE FEIJO</td>\n",
       "      <td>CENTRO DE SAUDE DIAMANTINO MACEDO</td>\n",
       "      <td>120030</td>\n",
       "      <td>FEIJO</td>\n",
       "      <td>AC</td>\n",
       "    </tr>\n",
       "    <tr>\n",
       "      <th>15144</th>\n",
       "      <td>7625855</td>\n",
       "      <td>DISTRITO SANITARIO ESPECIAL INDIGENA ALTO RIO ...</td>\n",
       "      <td>POLO BASE DE MARECHAL THAUMATURGO</td>\n",
       "      <td>120035</td>\n",
       "      <td>MARECHAL THAUMATURGO</td>\n",
       "      <td>AC</td>\n",
       "    </tr>\n",
       "    <tr>\n",
       "      <th>17153</th>\n",
       "      <td>6748759</td>\n",
       "      <td>DISTRITO SANITARIO ESPECIAL INDIGENA ALTO RIO ...</td>\n",
       "      <td>POLO BASE DE FEIJO</td>\n",
       "      <td>120030</td>\n",
       "      <td>FEIJO</td>\n",
       "      <td>AC</td>\n",
       "    </tr>\n",
       "    <tr>\n",
       "      <th>18361</th>\n",
       "      <td>6308740</td>\n",
       "      <td>DISTRITO SANITARIO ESPECIAL INDIGENA ALTO RIO ...</td>\n",
       "      <td>POLO BASE DE PORTO WALTER</td>\n",
       "      <td>120039</td>\n",
       "      <td>PORTO WALTER</td>\n",
       "      <td>AC</td>\n",
       "    </tr>\n",
       "    <tr>\n",
       "      <th>18608</th>\n",
       "      <td>2001748</td>\n",
       "      <td>PREFEITURA MUNICIPAL DE PORTO WALTER</td>\n",
       "      <td>UBS VICENTE VARELA DE ALMEIDA</td>\n",
       "      <td>120039</td>\n",
       "      <td>PORTO WALTER</td>\n",
       "      <td>AC</td>\n",
       "    </tr>\n",
       "    <tr>\n",
       "      <th>20204</th>\n",
       "      <td>6917682</td>\n",
       "      <td>DISTRITO SANITARIO ESPECIAL INDIGENA ALTO RIO ...</td>\n",
       "      <td>POLO BASE DE CRUZEIRO DO SUL</td>\n",
       "      <td>120020</td>\n",
       "      <td>CRUZEIRO DO SUL</td>\n",
       "      <td>AC</td>\n",
       "    </tr>\n",
       "    <tr>\n",
       "      <th>20759</th>\n",
       "      <td>6917291</td>\n",
       "      <td>PREFEITURA MUNICIPAL DE RIO BRANCO</td>\n",
       "      <td>DEPARTAMENTO DE VIGILANCIA EPIDEMIOLOGICA E AM...</td>\n",
       "      <td>120040</td>\n",
       "      <td>RIO BRANCO</td>\n",
       "      <td>AC</td>\n",
       "    </tr>\n",
       "    <tr>\n",
       "      <th>21119</th>\n",
       "      <td>6428940</td>\n",
       "      <td>PREFEITURA MUNICIPAL DE ASSIS BRASIL</td>\n",
       "      <td>POLO BASE DE ASSIS BRASIL</td>\n",
       "      <td>120005</td>\n",
       "      <td>ASSIS BRASIL</td>\n",
       "      <td>AC</td>\n",
       "    </tr>\n",
       "    <tr>\n",
       "      <th>27860</th>\n",
       "      <td>7625855</td>\n",
       "      <td>DISTRITO SANITARIO ESPECIAL INDIGENA ALTO RIO ...</td>\n",
       "      <td>POLO BASE DE MARECHAL THAUMATURGO</td>\n",
       "      <td>120035</td>\n",
       "      <td>MARECHAL THAUMATURGO</td>\n",
       "      <td>AC</td>\n",
       "    </tr>\n",
       "    <tr>\n",
       "      <th>29127</th>\n",
       "      <td>6612385</td>\n",
       "      <td>PREFEITURA MUNICIPAL DE TARAUACA</td>\n",
       "      <td>UNIDADE ASSISTENCIAL A SAUDE INDIGENA DE TARAU...</td>\n",
       "      <td>120060</td>\n",
       "      <td>TARAUACA</td>\n",
       "      <td>AC</td>\n",
       "    </tr>\n",
       "    <tr>\n",
       "      <th>31200</th>\n",
       "      <td>7625855</td>\n",
       "      <td>DISTRITO SANITARIO ESPECIAL INDIGENA ALTO RIO ...</td>\n",
       "      <td>POLO BASE DE MARECHAL THAUMATURGO</td>\n",
       "      <td>120035</td>\n",
       "      <td>MARECHAL THAUMATURGO</td>\n",
       "      <td>AC</td>\n",
       "    </tr>\n",
       "    <tr>\n",
       "      <th>35654</th>\n",
       "      <td>6159087</td>\n",
       "      <td>PREFEITURA MUNICIPAL DE CRUZEIRO DO SUL</td>\n",
       "      <td>SECRETARIA MUNICIPAL DE SAUDE DE CRUZEIRO DO SUL</td>\n",
       "      <td>120020</td>\n",
       "      <td>CRUZEIRO DO SUL</td>\n",
       "      <td>AC</td>\n",
       "    </tr>\n",
       "    <tr>\n",
       "      <th>38412</th>\n",
       "      <td>6159087</td>\n",
       "      <td>PREFEITURA MUNICIPAL DE CRUZEIRO DO SUL</td>\n",
       "      <td>SECRETARIA MUNICIPAL DE SAUDE DE CRUZEIRO DO SUL</td>\n",
       "      <td>120020</td>\n",
       "      <td>CRUZEIRO DO SUL</td>\n",
       "      <td>AC</td>\n",
       "    </tr>\n",
       "    <tr>\n",
       "      <th>51872</th>\n",
       "      <td>2000040</td>\n",
       "      <td>PREFEITURA MUNICIPAL DE FEIJO</td>\n",
       "      <td>CENTRO DE SAUDE DIAMANTINO MACEDO</td>\n",
       "      <td>120030</td>\n",
       "      <td>FEIJO</td>\n",
       "      <td>AC</td>\n",
       "    </tr>\n",
       "    <tr>\n",
       "      <th>57405</th>\n",
       "      <td>9648968</td>\n",
       "      <td>DISTRITO SANITARIO ESPECIAL DE SAUDE INDIGENA ...</td>\n",
       "      <td>POLO INDIGENA DE MANOEL URBANO</td>\n",
       "      <td>120034</td>\n",
       "      <td>MANOEL URBANO</td>\n",
       "      <td>AC</td>\n",
       "    </tr>\n",
       "    <tr>\n",
       "      <th>61131</th>\n",
       "      <td>6430201</td>\n",
       "      <td>DISTRITO SANITARIO ESPECIAL INDIGENA ALTO JURUA</td>\n",
       "      <td>POLO BASE INDIGENA</td>\n",
       "      <td>120032</td>\n",
       "      <td>JORDAO</td>\n",
       "      <td>AC</td>\n",
       "    </tr>\n",
       "    <tr>\n",
       "      <th>62742</th>\n",
       "      <td>6917291</td>\n",
       "      <td>PREFEITURA MUNICIPAL DE RIO BRANCO</td>\n",
       "      <td>DEPARTAMENTO DE VIGILANCIA EPIDEMIOLOGICA E AM...</td>\n",
       "      <td>120040</td>\n",
       "      <td>RIO BRANCO</td>\n",
       "      <td>AC</td>\n",
       "    </tr>\n",
       "    <tr>\n",
       "      <th>66922</th>\n",
       "      <td>7625855</td>\n",
       "      <td>DISTRITO SANITARIO ESPECIAL INDIGENA ALTO RIO ...</td>\n",
       "      <td>POLO BASE DE MARECHAL THAUMATURGO</td>\n",
       "      <td>120035</td>\n",
       "      <td>MARECHAL THAUMATURGO</td>\n",
       "      <td>AC</td>\n",
       "    </tr>\n",
       "    <tr>\n",
       "      <th>68290</th>\n",
       "      <td>6955525</td>\n",
       "      <td>DISTRITO SANITARIO ESPECIAL INDIGENA ALTO RIO ...</td>\n",
       "      <td>POLO BASE DE MANCIO LIMA</td>\n",
       "      <td>120033</td>\n",
       "      <td>MANCIO LIMA</td>\n",
       "      <td>AC</td>\n",
       "    </tr>\n",
       "    <tr>\n",
       "      <th>69882</th>\n",
       "      <td>5336171</td>\n",
       "      <td>SECRETARIA DE ESTADO DE SAUDE DO ACRE</td>\n",
       "      <td>HOSPITAL REGIONAL DO JURUA</td>\n",
       "      <td>120020</td>\n",
       "      <td>CRUZEIRO DO SUL</td>\n",
       "      <td>AC</td>\n",
       "    </tr>\n",
       "    <tr>\n",
       "      <th>70881</th>\n",
       "      <td>6697151</td>\n",
       "      <td>MINISTERIO DA SAUDE</td>\n",
       "      <td>DISTRITO SANITARIO ESPECIAL INDIGENA ALTO PURUS</td>\n",
       "      <td>120050</td>\n",
       "      <td>SENA MADUREIRA</td>\n",
       "      <td>AC</td>\n",
       "    </tr>\n",
       "    <tr>\n",
       "      <th>75368</th>\n",
       "      <td>6748759</td>\n",
       "      <td>DISTRITO SANITARIO ESPECIAL INDIGENA ALTO RIO ...</td>\n",
       "      <td>POLO BASE DE FEIJO</td>\n",
       "      <td>120030</td>\n",
       "      <td>FEIJO</td>\n",
       "      <td>AC</td>\n",
       "    </tr>\n",
       "    <tr>\n",
       "      <th>78289</th>\n",
       "      <td>6430201</td>\n",
       "      <td>DISTRITO SANITARIO ESPECIAL INDIGENA ALTO JURUA</td>\n",
       "      <td>POLO BASE INDIGENA</td>\n",
       "      <td>120032</td>\n",
       "      <td>JORDAO</td>\n",
       "      <td>AC</td>\n",
       "    </tr>\n",
       "    <tr>\n",
       "      <th>79146</th>\n",
       "      <td>2001748</td>\n",
       "      <td>PREFEITURA MUNICIPAL DE PORTO WALTER</td>\n",
       "      <td>UBS VICENTE VARELA DE ALMEIDA</td>\n",
       "      <td>120039</td>\n",
       "      <td>PORTO WALTER</td>\n",
       "      <td>AC</td>\n",
       "    </tr>\n",
       "    <tr>\n",
       "      <th>81424</th>\n",
       "      <td>6955525</td>\n",
       "      <td>DISTRITO SANITARIO ESPECIAL INDIGENA ALTO RIO ...</td>\n",
       "      <td>POLO BASE DE MANCIO LIMA</td>\n",
       "      <td>120033</td>\n",
       "      <td>MANCIO LIMA</td>\n",
       "      <td>AC</td>\n",
       "    </tr>\n",
       "    <tr>\n",
       "      <th>84331</th>\n",
       "      <td>2001748</td>\n",
       "      <td>PREFEITURA MUNICIPAL DE PORTO WALTER</td>\n",
       "      <td>UBS VICENTE VARELA DE ALMEIDA</td>\n",
       "      <td>120039</td>\n",
       "      <td>PORTO WALTER</td>\n",
       "      <td>AC</td>\n",
       "    </tr>\n",
       "    <tr>\n",
       "      <th>88619</th>\n",
       "      <td>6430201</td>\n",
       "      <td>DISTRITO SANITARIO ESPECIAL INDIGENA ALTO JURUA</td>\n",
       "      <td>POLO BASE INDIGENA</td>\n",
       "      <td>120032</td>\n",
       "      <td>JORDAO</td>\n",
       "      <td>AC</td>\n",
       "    </tr>\n",
       "    <tr>\n",
       "      <th>89601</th>\n",
       "      <td>7625855</td>\n",
       "      <td>DISTRITO SANITARIO ESPECIAL INDIGENA ALTO RIO ...</td>\n",
       "      <td>POLO BASE DE MARECHAL THAUMATURGO</td>\n",
       "      <td>120035</td>\n",
       "      <td>MARECHAL THAUMATURGO</td>\n",
       "      <td>AC</td>\n",
       "    </tr>\n",
       "    <tr>\n",
       "      <th>94858</th>\n",
       "      <td>2001748</td>\n",
       "      <td>PREFEITURA MUNICIPAL DE PORTO WALTER</td>\n",
       "      <td>UBS VICENTE VARELA DE ALMEIDA</td>\n",
       "      <td>120039</td>\n",
       "      <td>PORTO WALTER</td>\n",
       "      <td>AC</td>\n",
       "    </tr>\n",
       "    <tr>\n",
       "      <th>95916</th>\n",
       "      <td>7625855</td>\n",
       "      <td>DISTRITO SANITARIO ESPECIAL INDIGENA ALTO RIO ...</td>\n",
       "      <td>POLO BASE DE MARECHAL THAUMATURGO</td>\n",
       "      <td>120035</td>\n",
       "      <td>MARECHAL THAUMATURGO</td>\n",
       "      <td>AC</td>\n",
       "    </tr>\n",
       "    <tr>\n",
       "      <th>101402</th>\n",
       "      <td>3323307</td>\n",
       "      <td>PREFEITURA MUNICIPAL DE PORTO ACRE</td>\n",
       "      <td>UNIDADE DE SAUDE DA FAMILIA ALVARO ARAUJO NOBRE</td>\n",
       "      <td>120080</td>\n",
       "      <td>PORTO ACRE</td>\n",
       "      <td>AC</td>\n",
       "    </tr>\n",
       "    <tr>\n",
       "      <th>104776</th>\n",
       "      <td>2001748</td>\n",
       "      <td>PREFEITURA MUNICIPAL DE PORTO WALTER</td>\n",
       "      <td>UBS VICENTE VARELA DE ALMEIDA</td>\n",
       "      <td>120039</td>\n",
       "      <td>PORTO WALTER</td>\n",
       "      <td>AC</td>\n",
       "    </tr>\n",
       "    <tr>\n",
       "      <th>111242</th>\n",
       "      <td>6430201</td>\n",
       "      <td>DISTRITO SANITARIO ESPECIAL INDIGENA ALTO JURUA</td>\n",
       "      <td>POLO BASE INDIGENA</td>\n",
       "      <td>120032</td>\n",
       "      <td>JORDAO</td>\n",
       "      <td>AC</td>\n",
       "    </tr>\n",
       "    <tr>\n",
       "      <th>116510</th>\n",
       "      <td>6955525</td>\n",
       "      <td>DISTRITO SANITARIO ESPECIAL INDIGENA ALTO RIO ...</td>\n",
       "      <td>POLO BASE DE MANCIO LIMA</td>\n",
       "      <td>120033</td>\n",
       "      <td>MANCIO LIMA</td>\n",
       "      <td>AC</td>\n",
       "    </tr>\n",
       "    <tr>\n",
       "      <th>119906</th>\n",
       "      <td>7625855</td>\n",
       "      <td>DISTRITO SANITARIO ESPECIAL INDIGENA ALTO RIO ...</td>\n",
       "      <td>POLO BASE DE MARECHAL THAUMATURGO</td>\n",
       "      <td>120035</td>\n",
       "      <td>MARECHAL THAUMATURGO</td>\n",
       "      <td>AC</td>\n",
       "    </tr>\n",
       "    <tr>\n",
       "      <th>122656</th>\n",
       "      <td>7625855</td>\n",
       "      <td>DISTRITO SANITARIO ESPECIAL INDIGENA ALTO RIO ...</td>\n",
       "      <td>POLO BASE DE MARECHAL THAUMATURGO</td>\n",
       "      <td>120035</td>\n",
       "      <td>MARECHAL THAUMATURGO</td>\n",
       "      <td>AC</td>\n",
       "    </tr>\n",
       "    <tr>\n",
       "      <th>123769</th>\n",
       "      <td>6428940</td>\n",
       "      <td>PREFEITURA MUNICIPAL DE ASSIS BRASIL</td>\n",
       "      <td>POLO BASE DE ASSIS BRASIL</td>\n",
       "      <td>120005</td>\n",
       "      <td>ASSIS BRASIL</td>\n",
       "      <td>AC</td>\n",
       "    </tr>\n",
       "    <tr>\n",
       "      <th>124696</th>\n",
       "      <td>6308740</td>\n",
       "      <td>DISTRITO SANITARIO ESPECIAL INDIGENA ALTO RIO ...</td>\n",
       "      <td>POLO BASE DE PORTO WALTER</td>\n",
       "      <td>120039</td>\n",
       "      <td>PORTO WALTER</td>\n",
       "      <td>AC</td>\n",
       "    </tr>\n",
       "    <tr>\n",
       "      <th>135392</th>\n",
       "      <td>2000040</td>\n",
       "      <td>PREFEITURA MUNICIPAL DE FEIJO</td>\n",
       "      <td>CENTRO DE SAUDE DIAMANTINO MACEDO</td>\n",
       "      <td>120030</td>\n",
       "      <td>FEIJO</td>\n",
       "      <td>AC</td>\n",
       "    </tr>\n",
       "    <tr>\n",
       "      <th>136851</th>\n",
       "      <td>6748759</td>\n",
       "      <td>DISTRITO SANITARIO ESPECIAL INDIGENA ALTO RIO ...</td>\n",
       "      <td>POLO BASE DE FEIJO</td>\n",
       "      <td>120030</td>\n",
       "      <td>FEIJO</td>\n",
       "      <td>AC</td>\n",
       "    </tr>\n",
       "    <tr>\n",
       "      <th>139074</th>\n",
       "      <td>9648968</td>\n",
       "      <td>DISTRITO SANITARIO ESPECIAL DE SAUDE INDIGENA ...</td>\n",
       "      <td>POLO INDIGENA DE MANOEL URBANO</td>\n",
       "      <td>120034</td>\n",
       "      <td>MANOEL URBANO</td>\n",
       "      <td>AC</td>\n",
       "    </tr>\n",
       "    <tr>\n",
       "      <th>140895</th>\n",
       "      <td>7123043</td>\n",
       "      <td>PREFEITURA MUNICIPAL DE JORDAO</td>\n",
       "      <td>SAUDE DA FAMILIA RIBEIRINHA</td>\n",
       "      <td>120032</td>\n",
       "      <td>JORDAO</td>\n",
       "      <td>AC</td>\n",
       "    </tr>\n",
       "    <tr>\n",
       "      <th>142027</th>\n",
       "      <td>6428940</td>\n",
       "      <td>PREFEITURA MUNICIPAL DE ASSIS BRASIL</td>\n",
       "      <td>POLO BASE DE ASSIS BRASIL</td>\n",
       "      <td>120005</td>\n",
       "      <td>ASSIS BRASIL</td>\n",
       "      <td>AC</td>\n",
       "    </tr>\n",
       "    <tr>\n",
       "      <th>149043</th>\n",
       "      <td>2001748</td>\n",
       "      <td>PREFEITURA MUNICIPAL DE PORTO WALTER</td>\n",
       "      <td>UBS VICENTE VARELA DE ALMEIDA</td>\n",
       "      <td>120039</td>\n",
       "      <td>PORTO WALTER</td>\n",
       "      <td>AC</td>\n",
       "    </tr>\n",
       "    <tr>\n",
       "      <th>149795</th>\n",
       "      <td>6748759</td>\n",
       "      <td>DISTRITO SANITARIO ESPECIAL INDIGENA ALTO RIO ...</td>\n",
       "      <td>POLO BASE DE FEIJO</td>\n",
       "      <td>120030</td>\n",
       "      <td>FEIJO</td>\n",
       "      <td>AC</td>\n",
       "    </tr>\n",
       "    <tr>\n",
       "      <th>152218</th>\n",
       "      <td>6748759</td>\n",
       "      <td>DISTRITO SANITARIO ESPECIAL INDIGENA ALTO RIO ...</td>\n",
       "      <td>POLO BASE DE FEIJO</td>\n",
       "      <td>120030</td>\n",
       "      <td>FEIJO</td>\n",
       "      <td>AC</td>\n",
       "    </tr>\n",
       "    <tr>\n",
       "      <th>153347</th>\n",
       "      <td>6748759</td>\n",
       "      <td>DISTRITO SANITARIO ESPECIAL INDIGENA ALTO RIO ...</td>\n",
       "      <td>POLO BASE DE FEIJO</td>\n",
       "      <td>120030</td>\n",
       "      <td>FEIJO</td>\n",
       "      <td>AC</td>\n",
       "    </tr>\n",
       "    <tr>\n",
       "      <th>155238</th>\n",
       "      <td>7625855</td>\n",
       "      <td>DISTRITO SANITARIO ESPECIAL INDIGENA ALTO RIO ...</td>\n",
       "      <td>POLO BASE DE MARECHAL THAUMATURGO</td>\n",
       "      <td>120035</td>\n",
       "      <td>MARECHAL THAUMATURGO</td>\n",
       "      <td>AC</td>\n",
       "    </tr>\n",
       "    <tr>\n",
       "      <th>161227</th>\n",
       "      <td>6612385</td>\n",
       "      <td>PREFEITURA MUNICIPAL DE TARAUACA</td>\n",
       "      <td>UNIDADE ASSISTENCIAL A SAUDE INDIGENA DE TARAU...</td>\n",
       "      <td>120060</td>\n",
       "      <td>TARAUACA</td>\n",
       "      <td>AC</td>\n",
       "    </tr>\n",
       "    <tr>\n",
       "      <th>163168</th>\n",
       "      <td>6917291</td>\n",
       "      <td>PREFEITURA MUNICIPAL DE RIO BRANCO</td>\n",
       "      <td>DEPARTAMENTO DE VIGILANCIA EPIDEMIOLOGICA E AM...</td>\n",
       "      <td>120040</td>\n",
       "      <td>RIO BRANCO</td>\n",
       "      <td>AC</td>\n",
       "    </tr>\n",
       "    <tr>\n",
       "      <th>164046</th>\n",
       "      <td>2001748</td>\n",
       "      <td>PREFEITURA MUNICIPAL DE PORTO WALTER</td>\n",
       "      <td>UBS VICENTE VARELA DE ALMEIDA</td>\n",
       "      <td>120039</td>\n",
       "      <td>PORTO WALTER</td>\n",
       "      <td>AC</td>\n",
       "    </tr>\n",
       "    <tr>\n",
       "      <th>164449</th>\n",
       "      <td>2001748</td>\n",
       "      <td>PREFEITURA MUNICIPAL DE PORTO WALTER</td>\n",
       "      <td>UBS VICENTE VARELA DE ALMEIDA</td>\n",
       "      <td>120039</td>\n",
       "      <td>PORTO WALTER</td>\n",
       "      <td>AC</td>\n",
       "    </tr>\n",
       "  </tbody>\n",
       "</table>\n",
       "</div>"
      ],
      "text/plain": [
       "        estabelecimento_valor  \\\n",
       "1567                  2001314   \n",
       "6250                  6917291   \n",
       "9569                  6159087   \n",
       "11338                 2000040   \n",
       "15144                 7625855   \n",
       "17153                 6748759   \n",
       "18361                 6308740   \n",
       "18608                 2001748   \n",
       "20204                 6917682   \n",
       "20759                 6917291   \n",
       "21119                 6428940   \n",
       "27860                 7625855   \n",
       "29127                 6612385   \n",
       "31200                 7625855   \n",
       "35654                 6159087   \n",
       "38412                 6159087   \n",
       "51872                 2000040   \n",
       "57405                 9648968   \n",
       "61131                 6430201   \n",
       "62742                 6917291   \n",
       "66922                 7625855   \n",
       "68290                 6955525   \n",
       "69882                 5336171   \n",
       "70881                 6697151   \n",
       "75368                 6748759   \n",
       "78289                 6430201   \n",
       "79146                 2001748   \n",
       "81424                 6955525   \n",
       "84331                 2001748   \n",
       "88619                 6430201   \n",
       "89601                 7625855   \n",
       "94858                 2001748   \n",
       "95916                 7625855   \n",
       "101402                3323307   \n",
       "104776                2001748   \n",
       "111242                6430201   \n",
       "116510                6955525   \n",
       "119906                7625855   \n",
       "122656                7625855   \n",
       "123769                6428940   \n",
       "124696                6308740   \n",
       "135392                2000040   \n",
       "136851                6748759   \n",
       "139074                9648968   \n",
       "140895                7123043   \n",
       "142027                6428940   \n",
       "149043                2001748   \n",
       "149795                6748759   \n",
       "152218                6748759   \n",
       "153347                6748759   \n",
       "155238                7625855   \n",
       "161227                6612385   \n",
       "163168                6917291   \n",
       "164046                2001748   \n",
       "164449                2001748   \n",
       "\n",
       "                              estabelecimento_razaosocial  \\\n",
       "1567               PREFEITURA MUNICIPAL DE EPITACIOLANDIA   \n",
       "6250                   PREFEITURA MUNICIPAL DE RIO BRANCO   \n",
       "9569              PREFEITURA MUNICIPAL DE CRUZEIRO DO SUL   \n",
       "11338                       PREFEITURA MUNICIPAL DE FEIJO   \n",
       "15144   DISTRITO SANITARIO ESPECIAL INDIGENA ALTO RIO ...   \n",
       "17153   DISTRITO SANITARIO ESPECIAL INDIGENA ALTO RIO ...   \n",
       "18361   DISTRITO SANITARIO ESPECIAL INDIGENA ALTO RIO ...   \n",
       "18608                PREFEITURA MUNICIPAL DE PORTO WALTER   \n",
       "20204   DISTRITO SANITARIO ESPECIAL INDIGENA ALTO RIO ...   \n",
       "20759                  PREFEITURA MUNICIPAL DE RIO BRANCO   \n",
       "21119                PREFEITURA MUNICIPAL DE ASSIS BRASIL   \n",
       "27860   DISTRITO SANITARIO ESPECIAL INDIGENA ALTO RIO ...   \n",
       "29127                    PREFEITURA MUNICIPAL DE TARAUACA   \n",
       "31200   DISTRITO SANITARIO ESPECIAL INDIGENA ALTO RIO ...   \n",
       "35654             PREFEITURA MUNICIPAL DE CRUZEIRO DO SUL   \n",
       "38412             PREFEITURA MUNICIPAL DE CRUZEIRO DO SUL   \n",
       "51872                       PREFEITURA MUNICIPAL DE FEIJO   \n",
       "57405   DISTRITO SANITARIO ESPECIAL DE SAUDE INDIGENA ...   \n",
       "61131     DISTRITO SANITARIO ESPECIAL INDIGENA ALTO JURUA   \n",
       "62742                  PREFEITURA MUNICIPAL DE RIO BRANCO   \n",
       "66922   DISTRITO SANITARIO ESPECIAL INDIGENA ALTO RIO ...   \n",
       "68290   DISTRITO SANITARIO ESPECIAL INDIGENA ALTO RIO ...   \n",
       "69882               SECRETARIA DE ESTADO DE SAUDE DO ACRE   \n",
       "70881                                 MINISTERIO DA SAUDE   \n",
       "75368   DISTRITO SANITARIO ESPECIAL INDIGENA ALTO RIO ...   \n",
       "78289     DISTRITO SANITARIO ESPECIAL INDIGENA ALTO JURUA   \n",
       "79146                PREFEITURA MUNICIPAL DE PORTO WALTER   \n",
       "81424   DISTRITO SANITARIO ESPECIAL INDIGENA ALTO RIO ...   \n",
       "84331                PREFEITURA MUNICIPAL DE PORTO WALTER   \n",
       "88619     DISTRITO SANITARIO ESPECIAL INDIGENA ALTO JURUA   \n",
       "89601   DISTRITO SANITARIO ESPECIAL INDIGENA ALTO RIO ...   \n",
       "94858                PREFEITURA MUNICIPAL DE PORTO WALTER   \n",
       "95916   DISTRITO SANITARIO ESPECIAL INDIGENA ALTO RIO ...   \n",
       "101402                 PREFEITURA MUNICIPAL DE PORTO ACRE   \n",
       "104776               PREFEITURA MUNICIPAL DE PORTO WALTER   \n",
       "111242    DISTRITO SANITARIO ESPECIAL INDIGENA ALTO JURUA   \n",
       "116510  DISTRITO SANITARIO ESPECIAL INDIGENA ALTO RIO ...   \n",
       "119906  DISTRITO SANITARIO ESPECIAL INDIGENA ALTO RIO ...   \n",
       "122656  DISTRITO SANITARIO ESPECIAL INDIGENA ALTO RIO ...   \n",
       "123769               PREFEITURA MUNICIPAL DE ASSIS BRASIL   \n",
       "124696  DISTRITO SANITARIO ESPECIAL INDIGENA ALTO RIO ...   \n",
       "135392                      PREFEITURA MUNICIPAL DE FEIJO   \n",
       "136851  DISTRITO SANITARIO ESPECIAL INDIGENA ALTO RIO ...   \n",
       "139074  DISTRITO SANITARIO ESPECIAL DE SAUDE INDIGENA ...   \n",
       "140895                     PREFEITURA MUNICIPAL DE JORDAO   \n",
       "142027               PREFEITURA MUNICIPAL DE ASSIS BRASIL   \n",
       "149043               PREFEITURA MUNICIPAL DE PORTO WALTER   \n",
       "149795  DISTRITO SANITARIO ESPECIAL INDIGENA ALTO RIO ...   \n",
       "152218  DISTRITO SANITARIO ESPECIAL INDIGENA ALTO RIO ...   \n",
       "153347  DISTRITO SANITARIO ESPECIAL INDIGENA ALTO RIO ...   \n",
       "155238  DISTRITO SANITARIO ESPECIAL INDIGENA ALTO RIO ...   \n",
       "161227                   PREFEITURA MUNICIPAL DE TARAUACA   \n",
       "163168                 PREFEITURA MUNICIPAL DE RIO BRANCO   \n",
       "164046               PREFEITURA MUNICIPAL DE PORTO WALTER   \n",
       "164449               PREFEITURA MUNICIPAL DE PORTO WALTER   \n",
       "\n",
       "                                 estalecimento_nofantasia  \\\n",
       "1567                              ESF JOAO ALVES DA SILVA   \n",
       "6250    DEPARTAMENTO DE VIGILANCIA EPIDEMIOLOGICA E AM...   \n",
       "9569     SECRETARIA MUNICIPAL DE SAUDE DE CRUZEIRO DO SUL   \n",
       "11338                   CENTRO DE SAUDE DIAMANTINO MACEDO   \n",
       "15144                   POLO BASE DE MARECHAL THAUMATURGO   \n",
       "17153                                  POLO BASE DE FEIJO   \n",
       "18361                           POLO BASE DE PORTO WALTER   \n",
       "18608                       UBS VICENTE VARELA DE ALMEIDA   \n",
       "20204                        POLO BASE DE CRUZEIRO DO SUL   \n",
       "20759   DEPARTAMENTO DE VIGILANCIA EPIDEMIOLOGICA E AM...   \n",
       "21119                           POLO BASE DE ASSIS BRASIL   \n",
       "27860                   POLO BASE DE MARECHAL THAUMATURGO   \n",
       "29127   UNIDADE ASSISTENCIAL A SAUDE INDIGENA DE TARAU...   \n",
       "31200                   POLO BASE DE MARECHAL THAUMATURGO   \n",
       "35654    SECRETARIA MUNICIPAL DE SAUDE DE CRUZEIRO DO SUL   \n",
       "38412    SECRETARIA MUNICIPAL DE SAUDE DE CRUZEIRO DO SUL   \n",
       "51872                   CENTRO DE SAUDE DIAMANTINO MACEDO   \n",
       "57405                      POLO INDIGENA DE MANOEL URBANO   \n",
       "61131                                  POLO BASE INDIGENA   \n",
       "62742   DEPARTAMENTO DE VIGILANCIA EPIDEMIOLOGICA E AM...   \n",
       "66922                   POLO BASE DE MARECHAL THAUMATURGO   \n",
       "68290                            POLO BASE DE MANCIO LIMA   \n",
       "69882                          HOSPITAL REGIONAL DO JURUA   \n",
       "70881     DISTRITO SANITARIO ESPECIAL INDIGENA ALTO PURUS   \n",
       "75368                                  POLO BASE DE FEIJO   \n",
       "78289                                  POLO BASE INDIGENA   \n",
       "79146                       UBS VICENTE VARELA DE ALMEIDA   \n",
       "81424                            POLO BASE DE MANCIO LIMA   \n",
       "84331                       UBS VICENTE VARELA DE ALMEIDA   \n",
       "88619                                  POLO BASE INDIGENA   \n",
       "89601                   POLO BASE DE MARECHAL THAUMATURGO   \n",
       "94858                       UBS VICENTE VARELA DE ALMEIDA   \n",
       "95916                   POLO BASE DE MARECHAL THAUMATURGO   \n",
       "101402    UNIDADE DE SAUDE DA FAMILIA ALVARO ARAUJO NOBRE   \n",
       "104776                      UBS VICENTE VARELA DE ALMEIDA   \n",
       "111242                                 POLO BASE INDIGENA   \n",
       "116510                           POLO BASE DE MANCIO LIMA   \n",
       "119906                  POLO BASE DE MARECHAL THAUMATURGO   \n",
       "122656                  POLO BASE DE MARECHAL THAUMATURGO   \n",
       "123769                          POLO BASE DE ASSIS BRASIL   \n",
       "124696                          POLO BASE DE PORTO WALTER   \n",
       "135392                  CENTRO DE SAUDE DIAMANTINO MACEDO   \n",
       "136851                                 POLO BASE DE FEIJO   \n",
       "139074                     POLO INDIGENA DE MANOEL URBANO   \n",
       "140895                        SAUDE DA FAMILIA RIBEIRINHA   \n",
       "142027                          POLO BASE DE ASSIS BRASIL   \n",
       "149043                      UBS VICENTE VARELA DE ALMEIDA   \n",
       "149795                                 POLO BASE DE FEIJO   \n",
       "152218                                 POLO BASE DE FEIJO   \n",
       "153347                                 POLO BASE DE FEIJO   \n",
       "155238                  POLO BASE DE MARECHAL THAUMATURGO   \n",
       "161227  UNIDADE ASSISTENCIAL A SAUDE INDIGENA DE TARAU...   \n",
       "163168  DEPARTAMENTO DE VIGILANCIA EPIDEMIOLOGICA E AM...   \n",
       "164046                      UBS VICENTE VARELA DE ALMEIDA   \n",
       "164449                      UBS VICENTE VARELA DE ALMEIDA   \n",
       "\n",
       "        estabelecimento_municipio_codigo estabelecimento_municipio_nome  \\\n",
       "1567                              120025                 EPITACIOLANDIA   \n",
       "6250                              120040                     RIO BRANCO   \n",
       "9569                              120020                CRUZEIRO DO SUL   \n",
       "11338                             120030                          FEIJO   \n",
       "15144                             120035           MARECHAL THAUMATURGO   \n",
       "17153                             120030                          FEIJO   \n",
       "18361                             120039                   PORTO WALTER   \n",
       "18608                             120039                   PORTO WALTER   \n",
       "20204                             120020                CRUZEIRO DO SUL   \n",
       "20759                             120040                     RIO BRANCO   \n",
       "21119                             120005                   ASSIS BRASIL   \n",
       "27860                             120035           MARECHAL THAUMATURGO   \n",
       "29127                             120060                       TARAUACA   \n",
       "31200                             120035           MARECHAL THAUMATURGO   \n",
       "35654                             120020                CRUZEIRO DO SUL   \n",
       "38412                             120020                CRUZEIRO DO SUL   \n",
       "51872                             120030                          FEIJO   \n",
       "57405                             120034                  MANOEL URBANO   \n",
       "61131                             120032                         JORDAO   \n",
       "62742                             120040                     RIO BRANCO   \n",
       "66922                             120035           MARECHAL THAUMATURGO   \n",
       "68290                             120033                    MANCIO LIMA   \n",
       "69882                             120020                CRUZEIRO DO SUL   \n",
       "70881                             120050                 SENA MADUREIRA   \n",
       "75368                             120030                          FEIJO   \n",
       "78289                             120032                         JORDAO   \n",
       "79146                             120039                   PORTO WALTER   \n",
       "81424                             120033                    MANCIO LIMA   \n",
       "84331                             120039                   PORTO WALTER   \n",
       "88619                             120032                         JORDAO   \n",
       "89601                             120035           MARECHAL THAUMATURGO   \n",
       "94858                             120039                   PORTO WALTER   \n",
       "95916                             120035           MARECHAL THAUMATURGO   \n",
       "101402                            120080                     PORTO ACRE   \n",
       "104776                            120039                   PORTO WALTER   \n",
       "111242                            120032                         JORDAO   \n",
       "116510                            120033                    MANCIO LIMA   \n",
       "119906                            120035           MARECHAL THAUMATURGO   \n",
       "122656                            120035           MARECHAL THAUMATURGO   \n",
       "123769                            120005                   ASSIS BRASIL   \n",
       "124696                            120039                   PORTO WALTER   \n",
       "135392                            120030                          FEIJO   \n",
       "136851                            120030                          FEIJO   \n",
       "139074                            120034                  MANOEL URBANO   \n",
       "140895                            120032                         JORDAO   \n",
       "142027                            120005                   ASSIS BRASIL   \n",
       "149043                            120039                   PORTO WALTER   \n",
       "149795                            120030                          FEIJO   \n",
       "152218                            120030                          FEIJO   \n",
       "153347                            120030                          FEIJO   \n",
       "155238                            120035           MARECHAL THAUMATURGO   \n",
       "161227                            120060                       TARAUACA   \n",
       "163168                            120040                     RIO BRANCO   \n",
       "164046                            120039                   PORTO WALTER   \n",
       "164449                            120039                   PORTO WALTER   \n",
       "\n",
       "       estabelecimento_uf  \n",
       "1567                   AC  \n",
       "6250                   AC  \n",
       "9569                   AC  \n",
       "11338                  AC  \n",
       "15144                  AC  \n",
       "17153                  AC  \n",
       "18361                  AC  \n",
       "18608                  AC  \n",
       "20204                  AC  \n",
       "20759                  AC  \n",
       "21119                  AC  \n",
       "27860                  AC  \n",
       "29127                  AC  \n",
       "31200                  AC  \n",
       "35654                  AC  \n",
       "38412                  AC  \n",
       "51872                  AC  \n",
       "57405                  AC  \n",
       "61131                  AC  \n",
       "62742                  AC  \n",
       "66922                  AC  \n",
       "68290                  AC  \n",
       "69882                  AC  \n",
       "70881                  AC  \n",
       "75368                  AC  \n",
       "78289                  AC  \n",
       "79146                  AC  \n",
       "81424                  AC  \n",
       "84331                  AC  \n",
       "88619                  AC  \n",
       "89601                  AC  \n",
       "94858                  AC  \n",
       "95916                  AC  \n",
       "101402                 AC  \n",
       "104776                 AC  \n",
       "111242                 AC  \n",
       "116510                 AC  \n",
       "119906                 AC  \n",
       "122656                 AC  \n",
       "123769                 AC  \n",
       "124696                 AC  \n",
       "135392                 AC  \n",
       "136851                 AC  \n",
       "139074                 AC  \n",
       "140895                 AC  \n",
       "142027                 AC  \n",
       "149043                 AC  \n",
       "149795                 AC  \n",
       "152218                 AC  \n",
       "153347                 AC  \n",
       "155238                 AC  \n",
       "161227                 AC  \n",
       "163168                 AC  \n",
       "164046                 AC  \n",
       "164449                 AC  "
      ]
     },
     "execution_count": 31,
     "metadata": {},
     "output_type": "execute_result"
    }
   ],
   "source": [
    "# 4)\n",
    "lista_variaveis = ['estabelecimento_valor',\n",
    "       'estabelecimento_razaosocial', 'estalecimento_nofantasia',\n",
    "       'estabelecimento_municipio_codigo', 'estabelecimento_municipio_nome',\n",
    "       'estabelecimento_uf']\n",
    "df_menor_lista = df_menor.loc[:,lista_variaveis]\n",
    "df_menor_lista"
   ]
  },
  {
   "cell_type": "code",
   "execution_count": 32,
   "metadata": {},
   "outputs": [
    {
     "data": {
      "text/plain": [
       "(18, 6)"
      ]
     },
     "execution_count": 32,
     "metadata": {},
     "output_type": "execute_result"
    }
   ],
   "source": [
    "# 5)\n",
    "df_menor_lista = df_menor_lista.drop_duplicates()\n",
    "df_menor_lista.shape"
   ]
  },
  {
   "cell_type": "code",
   "execution_count": null,
   "metadata": {},
   "outputs": [],
   "source": []
  }
 ],
 "metadata": {
  "kernelspec": {
   "display_name": "Python 3",
   "language": "python",
   "name": "python3"
  },
  "language_info": {
   "codemirror_mode": {
    "name": "ipython",
    "version": 3
   },
   "file_extension": ".py",
   "mimetype": "text/x-python",
   "name": "python",
   "nbconvert_exporter": "python",
   "pygments_lexer": "ipython3",
   "version": "3.8.5"
  },
  "toc": {
   "base_numbering": 1,
   "nav_menu": {},
   "number_sections": false,
   "sideBar": true,
   "skip_h1_title": true,
   "title_cell": "Índice",
   "title_sidebar": "Conteúdo",
   "toc_cell": false,
   "toc_position": {},
   "toc_section_display": true,
   "toc_window_display": false
  },
  "varInspector": {
   "cols": {
    "lenName": 16,
    "lenType": 16,
    "lenVar": 40
   },
   "kernels_config": {
    "python": {
     "delete_cmd_postfix": "",
     "delete_cmd_prefix": "del ",
     "library": "var_list.py",
     "varRefreshCmd": "print(var_dic_list())"
    },
    "r": {
     "delete_cmd_postfix": ") ",
     "delete_cmd_prefix": "rm(",
     "library": "var_list.r",
     "varRefreshCmd": "cat(var_dic_list()) "
    }
   },
   "types_to_exclude": [
    "module",
    "function",
    "builtin_function_or_method",
    "instance",
    "_Feature"
   ],
   "window_display": false
  }
 },
 "nbformat": 4,
 "nbformat_minor": 4
}
